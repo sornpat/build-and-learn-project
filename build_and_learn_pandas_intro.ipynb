{
  "cells": [
    {
      "cell_type": "markdown",
      "metadata": {
        "id": "view-in-github",
        "colab_type": "text"
      },
      "source": [
        "<a href=\"https://colab.research.google.com/github/sornpat/build-and-learn-project/blob/main/build_and_learn_pandas_intro.ipynb\" target=\"_parent\"><img src=\"https://colab.research.google.com/assets/colab-badge.svg\" alt=\"Open In Colab\"/></a>"
      ]
    },
    {
      "cell_type": "markdown",
      "id": "23d4a4fe",
      "metadata": {
        "id": "23d4a4fe"
      },
      "source": [
        "\n",
        "# 🐼 Build & Learn: Your First Pandas Notebook\n",
        "\n",
        "Welcome to your first hands-on data science session!\n",
        "\n",
        "In this notebook, you'll learn how to:\n",
        "- Load a CSV dataset using `pandas`\n",
        "- Explore the data: head, shape, summary\n",
        "- Clean some messy data\n",
        "- Do basic analysis like filtering, grouping, and sorting\n",
        "\n",
        "You don’t need to install anything — just run each cell and follow along.\n",
        "\n",
        "---\n",
        "\n",
        "💡 If you ever get stuck, ask ChatGPT or your peers in the Meetup!\n"
      ]
    },
    {
      "cell_type": "code",
      "execution_count": null,
      "id": "cec99255",
      "metadata": {
        "id": "cec99255"
      },
      "outputs": [],
      "source": [
        "import pandas as pd\n",
        "import numpy as np"
      ]
    },
    {
      "cell_type": "markdown",
      "id": "a291d46f",
      "metadata": {
        "id": "a291d46f"
      },
      "source": [
        "## 📥 Step 1: Load a sample dataset"
      ]
    },
    {
      "cell_type": "code",
      "execution_count": null,
      "id": "546d9135",
      "metadata": {
        "id": "546d9135"
      },
      "outputs": [],
      "source": [
        "# Load from a URL (Titanic dataset)\n",
        "url = \"https://raw.githubusercontent.com/datasciencedojo/datasets/master/titanic.csv\"\n",
        "df = pd.read_csv(url)\n",
        "\n",
        "# Show first few rows\n",
        "df.head()"
      ]
    },
    {
      "cell_type": "markdown",
      "id": "ef2f2b99",
      "metadata": {
        "id": "ef2f2b99"
      },
      "source": [
        "## 🔍 Step 2: Explore the dataset"
      ]
    },
    {
      "cell_type": "code",
      "execution_count": null,
      "id": "c683b0fb",
      "metadata": {
        "id": "c683b0fb"
      },
      "outputs": [],
      "source": [
        "df.shape  # rows and columns\n",
        "\n",
        "df.info()  # column types and nulls\n",
        "\n",
        "df.describe()  # summary stats for numeric columns"
      ]
    },
    {
      "cell_type": "markdown",
      "id": "e50f8af7",
      "metadata": {
        "id": "e50f8af7"
      },
      "source": [
        "## 🧹 Step 3: Clean the data"
      ]
    },
    {
      "cell_type": "code",
      "execution_count": null,
      "id": "6f890940",
      "metadata": {
        "id": "6f890940"
      },
      "outputs": [],
      "source": [
        "# Check for missing values\n",
        "df.isnull().sum()\n",
        "\n",
        "# Fill missing Age with median\n",
        "df['Age'].fillna(df['Age'].median(), inplace=True)\n",
        "\n",
        "# Drop 'Cabin' column (too many missing values)\n",
        "df.drop(columns=['Cabin'], inplace=True)\n",
        "\n",
        "# Drop any remaining rows with nulls\n",
        "df.dropna(inplace=True)\n",
        "\n",
        "df.info()"
      ]
    },
    {
      "cell_type": "markdown",
      "id": "412cac94",
      "metadata": {
        "id": "412cac94"
      },
      "source": [
        "## 🔎 Step 4: Filter the data"
      ]
    },
    {
      "cell_type": "code",
      "execution_count": null,
      "id": "51ec7b93",
      "metadata": {
        "id": "51ec7b93"
      },
      "outputs": [],
      "source": [
        "# People older than 60\n",
        "df[df['Age'] > 60]\n",
        "\n",
        "# Female passengers\n",
        "df[df['Sex'] == 'female']"
      ]
    },
    {
      "cell_type": "markdown",
      "id": "38572b16",
      "metadata": {
        "id": "38572b16"
      },
      "source": [
        "## 📊 Step 5: Analyze by group"
      ]
    },
    {
      "cell_type": "code",
      "execution_count": null,
      "id": "ca81b5ec",
      "metadata": {
        "id": "ca81b5ec"
      },
      "outputs": [],
      "source": [
        "# Average age by class\n",
        "df.groupby('Pclass')['Age'].mean()\n",
        "\n",
        "# Survival rate by gender\n",
        "df.groupby('Sex')['Survived'].mean()"
      ]
    },
    {
      "cell_type": "markdown",
      "id": "4a224d62",
      "metadata": {
        "id": "4a224d62"
      },
      "source": [
        "\n",
        "---\n",
        "\n",
        "🎉 That's it! You've:\n",
        "- Loaded and cleaned a real dataset\n",
        "- Explored, filtered, and grouped data\n",
        "\n",
        "Next steps:\n",
        "- Try plotting with `matplotlib` or `seaborn`\n",
        "- Build a small question and answer it using code\n",
        "\n",
        "🧠 Bonus Challenge:\n",
        "What is the survival rate of women vs men in each passenger class?\n"
      ]
    }
  ],
  "metadata": {
    "colab": {
      "provenance": [],
      "include_colab_link": true
    },
    "language_info": {
      "name": "python"
    },
    "kernelspec": {
      "name": "python3",
      "display_name": "Python 3"
    }
  },
  "nbformat": 4,
  "nbformat_minor": 5
}